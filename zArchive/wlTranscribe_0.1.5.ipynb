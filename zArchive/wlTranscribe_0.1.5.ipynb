{
 "cells": [
  {
   "cell_type": "code",
   "execution_count": 1,
   "metadata": {},
   "outputs": [
    {
     "name": "stderr",
     "output_type": "stream",
     "text": [
      "/Library/Frameworks/Python.framework/Versions/3.11/lib/python3.11/site-packages/whisper/timing.py:57: NumbaDeprecationWarning: \u001b[1mThe 'nopython' keyword argument was not supplied to the 'numba.jit' decorator. The implicit default value for this argument is currently False, but it will be changed to True in Numba 0.59.0. See https://numba.readthedocs.io/en/stable/reference/deprecation.html#deprecation-of-object-mode-fall-back-behaviour-when-using-jit for details.\u001b[0m\n",
      "  @numba.jit\n"
     ]
    },
    {
     "name": "stdout",
     "output_type": "stream",
     "text": [
      "Importing the dtw module. When using in academic works please cite:\n",
      "  T. Giorgino. Computing and Visualizing Dynamic Time Warping Alignments in R: The dtw Package.\n",
      "  J. Stat. Soft., doi:10.18637/jss.v031.i07.\n",
      "\n"
     ]
    }
   ],
   "source": [
    "import json\n",
    "import pandas as pd\n",
    "import whisper_timestamped as whisper"
   ]
  },
  {
   "cell_type": "code",
   "execution_count": 2,
   "metadata": {},
   "outputs": [
    {
     "name": "stderr",
     "output_type": "stream",
     "text": [
      "100%|██████████| 25286/25286 [01:24<00:00, 299.06frames/s]\n"
     ]
    }
   ],
   "source": [
    "audio = whisper.load_audio(\"/Users/tristangardner/Documents/Programming/1. Apps - WIP/Premiere Pro/Test Videos/Wayne_Test_E1C.mp4\")\n",
    "\n",
    "model = whisper.load_model(\"medium\", device=\"cpu\")\n",
    "\n",
    "result = whisper.transcribe(model, audio, language=\"en\")\n",
    "\n",
    "transcript = json.dumps(result, indent = 2, ensure_ascii = False) "
   ]
  },
  {
   "cell_type": "code",
   "execution_count": 3,
   "metadata": {},
   "outputs": [],
   "source": [
    "def dictToJson(file_name, dictionary): # RETURNS DICT WRITTEN TO JSON IN DIRECTORY\n",
    "    dict_string = json.dumps(dictionary)\n",
    "    with open (file_name, 'w', encoding=\"utf-8\") as file:\n",
    "        file.write(dict_string) \n",
    "        \n",
    "        \n",
    "trans_base_filename = \"trans_base_1106.json\"       \n",
    "dictToJson(trans_base_filename, transcript)"
   ]
  },
  {
   "cell_type": "code",
   "execution_count": 4,
   "metadata": {},
   "outputs": [],
   "source": [
    "def loadJSON(json_base_filepath):\n",
    "    # Load JSON transcript\n",
    "    with open(json_base_filepath, \"r\") as file:\n",
    "        transcript_data = json.load(file)\n",
    "        \n",
    "    return transcript_data"
   ]
  },
  {
   "cell_type": "code",
   "execution_count": 5,
   "metadata": {},
   "outputs": [
    {
     "ename": "TypeError",
     "evalue": "string indices must be integers, not 'str'",
     "output_type": "error",
     "traceback": [
      "\u001b[0;31m---------------------------------------------------------------------------\u001b[0m",
      "\u001b[0;31mTypeError\u001b[0m                                 Traceback (most recent call last)",
      "\u001b[1;32m/Users/tristangardner/Documents/Programming/1. Apps - WIP/Word-Level Transcription/wlTranscribe_0.1.5.ipynb Cell 5\u001b[0m line \u001b[0;36m2\n\u001b[1;32m     <a href='vscode-notebook-cell:/Users/tristangardner/Documents/Programming/1.%20Apps%20-%20WIP/Word-Level%20Transcription/wlTranscribe_0.1.5.ipynb#W3sZmlsZQ%3D%3D?line=22'>23</a>\u001b[0m     \u001b[39mreturn\u001b[39;00m trans_wt_dict \u001b[39m# RETURNS JSON_DICT\u001b[39;00m\n\u001b[1;32m     <a href='vscode-notebook-cell:/Users/tristangardner/Documents/Programming/1.%20Apps%20-%20WIP/Word-Level%20Transcription/wlTranscribe_0.1.5.ipynb#W3sZmlsZQ%3D%3D?line=24'>25</a>\u001b[0m trans_base_json_filepath \u001b[39m=\u001b[39m trans_base_filename\n\u001b[0;32m---> <a href='vscode-notebook-cell:/Users/tristangardner/Documents/Programming/1.%20Apps%20-%20WIP/Word-Level%20Transcription/wlTranscribe_0.1.5.ipynb#W3sZmlsZQ%3D%3D?line=25'>26</a>\u001b[0m pullWordsTimes(trans_base_json_filepath)\n",
      "\u001b[1;32m/Users/tristangardner/Documents/Programming/1. Apps - WIP/Word-Level Transcription/wlTranscribe_0.1.5.ipynb Cell 5\u001b[0m line \u001b[0;36m8\n\u001b[1;32m      <a href='vscode-notebook-cell:/Users/tristangardner/Documents/Programming/1.%20Apps%20-%20WIP/Word-Level%20Transcription/wlTranscribe_0.1.5.ipynb#W3sZmlsZQ%3D%3D?line=4'>5</a>\u001b[0m confidence \u001b[39m=\u001b[39m []\n\u001b[1;32m      <a href='vscode-notebook-cell:/Users/tristangardner/Documents/Programming/1.%20Apps%20-%20WIP/Word-Level%20Transcription/wlTranscribe_0.1.5.ipynb#W3sZmlsZQ%3D%3D?line=5'>6</a>\u001b[0m words \u001b[39m=\u001b[39m []\n\u001b[0;32m----> <a href='vscode-notebook-cell:/Users/tristangardner/Documents/Programming/1.%20Apps%20-%20WIP/Word-Level%20Transcription/wlTranscribe_0.1.5.ipynb#W3sZmlsZQ%3D%3D?line=7'>8</a>\u001b[0m \u001b[39mfor\u001b[39;00m segment \u001b[39min\u001b[39;00m trans_base_dict[\u001b[39m'\u001b[39;49m\u001b[39msegments\u001b[39;49m\u001b[39m'\u001b[39;49m]:\n\u001b[1;32m      <a href='vscode-notebook-cell:/Users/tristangardner/Documents/Programming/1.%20Apps%20-%20WIP/Word-Level%20Transcription/wlTranscribe_0.1.5.ipynb#W3sZmlsZQ%3D%3D?line=8'>9</a>\u001b[0m     \u001b[39mfor\u001b[39;00m item \u001b[39min\u001b[39;00m segment[\u001b[39m'\u001b[39m\u001b[39mwords\u001b[39m\u001b[39m'\u001b[39m]:  \u001b[39m# Assuming segment['words'] is a list of dictionaries\u001b[39;00m\n\u001b[1;32m     <a href='vscode-notebook-cell:/Users/tristangardner/Documents/Programming/1.%20Apps%20-%20WIP/Word-Level%20Transcription/wlTranscribe_0.1.5.ipynb#W3sZmlsZQ%3D%3D?line=9'>10</a>\u001b[0m         words\u001b[39m.\u001b[39mappend(item[\u001b[39m'\u001b[39m\u001b[39mtext\u001b[39m\u001b[39m'\u001b[39m])\n",
      "\u001b[0;31mTypeError\u001b[0m: string indices must be integers, not 'str'"
     ]
    }
   ],
   "source": [
    "def pullWordsTimes(json_base_filepath): # RETURNS DICT & WRITES A DICT_JSON - LOADS A JSON TRANSCRIPT INTO DICTIONARY, SEPARATE WORDS & TIMES FROM SEGMENTS\n",
    "    trans_base_dict = loadJSON(json_base_filepath)\n",
    "    start = []\n",
    "    end = []\n",
    "    confidence = []\n",
    "    words = []\n",
    "\n",
    "    for segment in trans_base_dict['segments']:\n",
    "        for item in segment['words']:  # Assuming segment['words'] is a list of dictionaries\n",
    "            words.append(item['text'])\n",
    "            start.append(item['start'])\n",
    "            end.append(item['end'])\n",
    "            confidence.append(item['confidence'])\n",
    "\n",
    "    trans_wt_dict = {\n",
    "        'Words' : words,\n",
    "        'Start Time': start,\n",
    "        'End Time': end,\n",
    "    }\n",
    "    \n",
    "    dictToJson(\"transcriptionGrouped_1106.json\", trans_wt_dict) # Writes Dict to JSON\n",
    "    \n",
    "    return trans_wt_dict # RETURNS JSON_DICT\n",
    "\n",
    "trans_base_json_filepath = trans_base_filename\n",
    "pullWordsTimes(trans_base_json_filepath)"
   ]
  }
 ],
 "metadata": {
  "kernelspec": {
   "display_name": "Python 3",
   "language": "python",
   "name": "python3"
  },
  "language_info": {
   "codemirror_mode": {
    "name": "ipython",
    "version": 3
   },
   "file_extension": ".py",
   "mimetype": "text/x-python",
   "name": "python",
   "nbconvert_exporter": "python",
   "pygments_lexer": "ipython3",
   "version": "3.11.4"
  }
 },
 "nbformat": 4,
 "nbformat_minor": 2
}
